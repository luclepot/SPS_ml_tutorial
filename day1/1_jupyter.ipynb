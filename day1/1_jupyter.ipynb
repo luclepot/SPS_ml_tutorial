{
 "cells": [
  {
   "cell_type": "markdown",
   "metadata": {
    "colab_type": "text",
    "id": "lMdBJaMEKcFp"
   },
   "source": [
    "# SPS Python Tutorial, Day 1\n",
    "---\n",
    "*January 29/30, 2020*\n",
    "\n",
    "Luc Le Pottier, University of Michigan"
   ]
  },
  {
   "cell_type": "markdown",
   "metadata": {
    "colab_type": "text",
    "id": "OqbnneOhb3E-"
   },
   "source": [
    "## **1: google colab and jupyter notebooks**\n",
    "\n",
    "As a quick introduction, we'll go over some of the features of google colab/jupyter notebooks in general.\n",
    "\n",
    "---\n",
    "\n",
    "### **Jupyter notebooks**\n",
    "Hopefully you saw these in 160/260 - they're awesome (especially for non-computer science people). They also have $\\LaTeX$. Among other benefits, they provide: \n",
    "\n",
    "- convienent way to create **self-documenting code**\n",
    "    - demonstration is easy, run things in real-time\n",
    "    - built-in text explanations of what is happening, formatted in markdown\n",
    "\n",
    "- great for **developing/debugging** small but complex sections of code\n",
    "    - can break difficult operations into chunks with variable/data state intact\n",
    "    - fast iteration $ \\implies $  fast bug finding\n",
    "    \n",
    "- integrated command line utility\n",
    "    - shell commands work through cells\n",
    "    - **installing modules** real-time\n",
    "    \n",
    "They are less useful for technical software development, as they tend to be difficult to manage at large scale due to \n",
    "\n",
    "- lack of code folding\n",
    "- cluttered UI\n",
    "- ravioli-like breakdown of code\n",
    "\n",
    "\n",
    "### **Google colab**\n",
    "Colab is basically an online, Drive-esque google program which wraps Jupyter notebooks. Some features:\n",
    "- Pre-installed environment\n",
    "    - Makes **sharing results** and **analysis reproduction** MUCH easier\n",
    "    - Tutorials like this are way easier to follow along with\n",
    "- Github connectivity\n",
    "    - allows users to load/commit notebooks to github\n",
    "- Multi-user interface\n",
    "    - lets users edit notebooks as they would a google doc file\n",
    "    - productive teaching tool\n",
    "\n",
    "\n",
    "--- \n",
    "\n",
    "#### **Examples**\n",
    "\n",
    "To illustrate some of this functionality, we run through a series of examples.\n",
    " \n",
    "\n",
    "##### **1.1 Command Line Usage**\n",
    "\n",
    "You can use fundamental shell commands such as `ls`, `pwd`, and `mkdir` straight from the Python cells:"
   ]
  },
  {
   "cell_type": "code",
   "execution_count": null,
   "metadata": {
    "colab": {
     "base_uri": "https://localhost:8080/",
     "height": 34
    },
    "colab_type": "code",
    "id": "7wIezecpeRkb",
    "outputId": "b12a1669-d900-40d5-9087-c11dfe6c3625"
   },
   "outputs": [],
   "source": [
    "ls"
   ]
  },
  {
   "cell_type": "code",
   "execution_count": null,
   "metadata": {},
   "outputs": [],
   "source": [
    "pwd"
   ]
  },
  {
   "cell_type": "code",
   "execution_count": null,
   "metadata": {},
   "outputs": [],
   "source": [
    "mkdir new_dir"
   ]
  },
  {
   "cell_type": "markdown",
   "metadata": {},
   "source": [
    "If you want to use more niche/user installed commands (i.e. `touch` or `pip`), you will need to prepend an exclamation point, `!`. This will also allow you write \"mini shell scripts\", with multiple commands on the same line:"
   ]
  },
  {
   "cell_type": "code",
   "execution_count": null,
   "metadata": {},
   "outputs": [],
   "source": [
    "!touch new_file\n",
    "!ls -alh\n",
    "!rmdir new_dir\n",
    "!rm new_file\n",
    "!ls -alh "
   ]
  },
  {
   "cell_type": "markdown",
   "metadata": {},
   "source": [
    "##### **1.2 environment inspection**\n",
    "\n",
    "Since we have access to the command line, we might as well check out the code environment.\n",
    "\n",
    "We can check the location of the python distribution first using the `which` command, and then get a list of all installed modules using the `pip` command with the `freeze` subcommand: "
   ]
  },
  {
   "cell_type": "code",
   "execution_count": null,
   "metadata": {},
   "outputs": [],
   "source": [
    "!which python\n",
    "!echo\n",
    "!pip freeze | head -10"
   ]
  },
  {
   "cell_type": "markdown",
   "metadata": {},
   "source": [
    "Since we need a few specific packages for this tutorial, it's useful to check now that they're installed. This can be done by piping the output (using the `|` character) of `pip freeze` to the `grep` command:"
   ]
  },
  {
   "cell_type": "code",
   "execution_count": null,
   "metadata": {},
   "outputs": [],
   "source": [
    "!pip freeze | grep -E -- \"corner|EnergyFlow|h5py|matplotlib|numpy|pandas|seaborn\""
   ]
  },
  {
   "cell_type": "markdown",
   "metadata": {},
   "source": [
    "We should see from this list that both `corner` and `EnergyFlow` are missing. \n",
    "\n",
    "This is to be expected, as these modules are custom to researchers; they are not included by default in any python distributions. Not to worry!\n",
    "\n",
    "##### **1.3 modifying the python environment**\n",
    "Modules can also be installed real time, using the `pip install` command. This is incredibly useful because they can then *also* be used in the code you are running.\n",
    "\n",
    "We can quickly install those missing packages (which should just be `corner` and `energyflow`, but might be more if you are running things on your own hardware)"
   ]
  },
  {
   "cell_type": "code",
   "execution_count": null,
   "metadata": {},
   "outputs": [],
   "source": [
    "!pip install energyflow corner"
   ]
  },
  {
   "cell_type": "markdown",
   "metadata": {},
   "source": [
    "We can check that these installed immediately by importing and inspecting them. We can also show the use of the `dir` python builtin command, which lists all attributes of that object/scope:"
   ]
  },
  {
   "cell_type": "code",
   "execution_count": null,
   "metadata": {},
   "outputs": [],
   "source": [
    "import corner\n",
    "print('corner author: ', corner.__author__)\n",
    "\n",
    "import energyflow\n",
    "print('energyflow version: ', energyflow.__version__)\n",
    "\n",
    "dir(corner)"
   ]
  },
  {
   "cell_type": "markdown",
   "metadata": {},
   "source": [
    "#### section 1 examples, summary\n",
    "Here we learned several things that can be done via Jupyter/Colab, including how to\n",
    "- interact with the command line\n",
    "- inspect program environments and install programs\n",
    "- install python modules"
   ]
  }
 ],
 "metadata": {
  "colab": {
   "collapsed_sections": [],
   "name": "SPS machine learning tutorial, day 1",
   "provenance": []
  },
  "kernelspec": {
   "display_name": "Python 3",
   "language": "python",
   "name": "python3"
  },
  "language_info": {
   "codemirror_mode": {
    "name": "ipython",
    "version": 3
   },
   "file_extension": ".py",
   "mimetype": "text/x-python",
   "name": "python",
   "nbconvert_exporter": "python",
   "pygments_lexer": "ipython3",
   "version": "3.7.3"
  }
 },
 "nbformat": 4,
 "nbformat_minor": 1
}
