{
 "cells": [
  {
   "cell_type": "markdown",
   "metadata": {
    "colab_type": "text",
    "id": "lMdBJaMEKcFp"
   },
   "source": [
    "# SPS Python Tutorial, Day 1\n",
    "---\n",
    "*January 29/30, 2020*\n",
    "\n",
    "Luc Le Pottier, University of Michigan"
   ]
  },
  {
   "cell_type": "markdown",
   "metadata": {
    "colab_type": "text",
    "id": "OqbnneOhb3E-"
   },
   "source": [
    "## **1: google colab and jupyter notebooks**\n",
    "\n",
    "As a quick introduction, we'll go over some of the features of google colab/jupyter notebooks in general.\n",
    "\n",
    "---\n",
    "\n",
    "### **Jupyter notebooks**\n",
    "Hopefully you saw these in 160/260 - they're awesome (especially for non-computer science people). They also have $\\LaTeX$. Among other benefits, they provide: \n",
    "\n",
    "- convienent way to create **self-documenting code**\n",
    "    - demonstration is easy, run things in real-time\n",
    "    - built-in text explanations of what is happening, formatted in markdown\n",
    "\n",
    "- great for **developing/debugging** small but complex sections of code\n",
    "    - can break difficult operations into chunks with variable/data state intact\n",
    "    - fast iteration $ \\implies $  fast bug finding\n",
    "    \n",
    "- integrated command line utility\n",
    "    - shell commands work through cells\n",
    "    - **installing modules** real-time\n",
    "    \n",
    "They are less useful for technical software development, as they tend to be difficult to manage at large scale due to \n",
    "\n",
    "- lack of code folding\n",
    "- cluttered UI\n",
    "- ravioli-like breakdown of code\n",
    "\n",
    "\n",
    "### **Google colab**\n",
    "Colab is basically an online, Drive-esque google program which wraps Jupyter notebooks. Some features:\n",
    "- Pre-installed environment\n",
    "    - Makes **sharing results** and **analysis reproduction** MUCH easier\n",
    "    - Tutorials like this are way easier to follow along with\n",
    "- Github connectivity\n",
    "    - allows users to load/commit notebooks to github\n",
    "- Multi-user interface\n",
    "    - lets users edit notebooks as they would a google doc file\n",
    "    - productive teaching tool\n",
    "\n",
    "\n",
    "--- \n",
    "\n",
    "#### **Examples**\n",
    "\n",
    "To illustrate some of this functionality, we run through a series of examples.\n",
    " \n",
    "\n",
    "##### **1.1 Command Line Usage**\n",
    "\n",
    "You can use fundamental shell commands such as `ls`, `pwd`, and `mkdir` straight from the Python cells:"
   ]
  },
  {
   "cell_type": "code",
   "execution_count": 1,
   "metadata": {
    "colab": {
     "base_uri": "https://localhost:8080/",
     "height": 34
    },
    "colab_type": "code",
    "id": "7wIezecpeRkb",
    "outputId": "b12a1669-d900-40d5-9087-c11dfe6c3625"
   },
   "outputs": [
    {
     "name": "stdout",
     "output_type": "stream",
     "text": [
      "\u001b[0m\u001b[01;31m1_jupyter.ipynb\u001b[0m*  \u001b[01;31m2_data.ipynb\u001b[0m*  \u001b[01;31m3_visualizations.ipynb\u001b[0m*\r\n"
     ]
    }
   ],
   "source": [
    "ls"
   ]
  },
  {
   "cell_type": "code",
   "execution_count": 2,
   "metadata": {},
   "outputs": [
    {
     "data": {
      "text/plain": [
       "'/mnt/c/Users/Luc Le Pottier/schoolbackup/PROJECTS/SPS_ml_tutorial/day1'"
      ]
     },
     "execution_count": 2,
     "metadata": {},
     "output_type": "execute_result"
    }
   ],
   "source": [
    "pwd"
   ]
  },
  {
   "cell_type": "code",
   "execution_count": 3,
   "metadata": {},
   "outputs": [],
   "source": [
    "mkdir new_dir"
   ]
  },
  {
   "cell_type": "markdown",
   "metadata": {},
   "source": [
    "If you want to use more niche/user installed commands (i.e. `touch` or `pip`), you will need to prepend an exclamation point, `!`. This will also allow you write \"mini shell scripts\", with multiple commands on the same line:"
   ]
  },
  {
   "cell_type": "code",
   "execution_count": 4,
   "metadata": {},
   "outputs": [
    {
     "name": "stdout",
     "output_type": "stream",
     "text": [
      "total 116K\n",
      "drwxrwxrwx 1 luclepot luclepot 4.0K Jan 28 23:27 .\n",
      "drwxrwxrwx 1 luclepot luclepot 4.0K Jan 28 23:24 ..\n",
      "-rwxrwxrwx 1 luclepot luclepot 116K Jan 28 23:22 1_jupyter.ipynb\n",
      "-rwxrwxrwx 1 luclepot luclepot   72 Jan 28 23:25 2_data.ipynb\n",
      "-rwxrwxrwx 1 luclepot luclepot   72 Jan 28 23:26 3_visualizations.ipynb\n",
      "drwxrwxrwx 1 luclepot luclepot 4.0K Jan 28 23:26 .ipynb_checkpoints\n",
      "drwxrwxrwx 1 luclepot luclepot 4.0K Jan 28 23:27 new_dir\n",
      "-rwxrwxrwx 1 luclepot luclepot    0 Jan 28 23:27 new_file\n",
      "total 116K\n",
      "drwxrwxrwx 1 luclepot luclepot 4.0K Jan 28 23:27 .\n",
      "drwxrwxrwx 1 luclepot luclepot 4.0K Jan 28 23:24 ..\n",
      "-rwxrwxrwx 1 luclepot luclepot 116K Jan 28 23:22 1_jupyter.ipynb\n",
      "-rwxrwxrwx 1 luclepot luclepot   72 Jan 28 23:25 2_data.ipynb\n",
      "-rwxrwxrwx 1 luclepot luclepot   72 Jan 28 23:26 3_visualizations.ipynb\n",
      "drwxrwxrwx 1 luclepot luclepot 4.0K Jan 28 23:26 .ipynb_checkpoints\n"
     ]
    }
   ],
   "source": [
    "!touch new_file\n",
    "!ls -alh\n",
    "!rmdir new_dir\n",
    "!rm new_file\n",
    "!ls -alh "
   ]
  },
  {
   "cell_type": "markdown",
   "metadata": {},
   "source": [
    "##### **1.2 environment inspection**\n",
    "\n",
    "Since we have access to the command line, we might as well check out the code environment.\n",
    "\n",
    "We can check the location of the python distribution first using the `which` command, and then get a list of all installed modules using the `pip` command with the `freeze` subcommand: "
   ]
  },
  {
   "cell_type": "code",
   "execution_count": 5,
   "metadata": {},
   "outputs": [
    {
     "name": "stdout",
     "output_type": "stream",
     "text": [
      "/home/luclepot/anaconda3/bin/python\n",
      "\n",
      "alabaster==0.7.12\n",
      "anaconda-client==1.7.2\n",
      "anaconda-navigator==1.9.6\n",
      "anaconda-project==0.8.2\n",
      "asn1crypto==0.24.0\n",
      "astroid==2.1.0\n",
      "astropy==3.1\n",
      "atomicwrites==1.2.1\n",
      "attrs==18.2.0\n",
      "autoencodeSVJ==0.1.0\n"
     ]
    }
   ],
   "source": [
    "!which python\n",
    "!echo\n",
    "!pip freeze | head -10"
   ]
  },
  {
   "cell_type": "markdown",
   "metadata": {},
   "source": [
    "Since we need a few specific packages for this tutorial, it's useful to check now that they're installed. This can be done by piping the output (using the `|` character) of `pip freeze` to the `grep` command:"
   ]
  },
  {
   "cell_type": "code",
   "execution_count": 6,
   "metadata": {},
   "outputs": [
    {
     "name": "stdout",
     "output_type": "stream",
     "text": [
      "corner==2.0.1\r\n",
      "EnergyFlow==0.13.2\r\n",
      "h5py==2.10.0\r\n",
      "matplotlib==3.0.2\r\n",
      "numpy==1.15.4\r\n",
      "numpydoc==0.8.0\r\n",
      "pandas==0.23.4\r\n",
      "seaborn==0.9.0\r\n"
     ]
    }
   ],
   "source": [
    "!pip freeze | grep -E -- \"corner|EnergyFlow|h5py|matplotlib|numpy|pandas|seaborn\""
   ]
  },
  {
   "cell_type": "markdown",
   "metadata": {},
   "source": [
    "We should see from this list that both `corner` and `EnergyFlow` are missing. \n",
    "\n",
    "This is to be expected, as these modules are custom to researchers; they are not included by default in any python distributions. Not to worry!\n",
    "\n",
    "##### **1.3 modifying the python environment**\n",
    "Modules can also be installed real time, using the `pip install` command. This is incredibly useful because they can then *also* be used in the code you are running.\n",
    "\n",
    "We can quickly install those missing packages (which should just be `corner` and `energyflow`, but might be more if you are running things on your own hardware)"
   ]
  },
  {
   "cell_type": "code",
   "execution_count": 7,
   "metadata": {},
   "outputs": [
    {
     "name": "stdout",
     "output_type": "stream",
     "text": [
      "Requirement already satisfied: energyflow in /home/luclepot/anaconda3/lib/python3.7/site-packages (0.13.2)\n",
      "Requirement already satisfied: corner in /home/luclepot/anaconda3/lib/python3.7/site-packages (2.0.1)\n",
      "Requirement already satisfied: six>=1.10.0 in /home/luclepot/anaconda3/lib/python3.7/site-packages (from energyflow) (1.12.0)\n",
      "Requirement already satisfied: h5py>=2.9.0 in /home/luclepot/anaconda3/lib/python3.7/site-packages (from energyflow) (2.10.0)\n",
      "Requirement already satisfied: numpy>=1.14.0 in /home/luclepot/anaconda3/lib/python3.7/site-packages (from energyflow) (1.15.4)\n",
      "Requirement already satisfied: matplotlib in /home/luclepot/anaconda3/lib/python3.7/site-packages (from corner) (3.0.2)\n",
      "Requirement already satisfied: cycler>=0.10 in /home/luclepot/anaconda3/lib/python3.7/site-packages (from matplotlib->corner) (0.10.0)\n",
      "Requirement already satisfied: kiwisolver>=1.0.1 in /home/luclepot/anaconda3/lib/python3.7/site-packages (from matplotlib->corner) (1.0.1)\n",
      "Requirement already satisfied: pyparsing!=2.0.4,!=2.1.2,!=2.1.6,>=2.0.1 in /home/luclepot/anaconda3/lib/python3.7/site-packages (from matplotlib->corner) (2.3.0)\n",
      "Requirement already satisfied: python-dateutil>=2.1 in /home/luclepot/anaconda3/lib/python3.7/site-packages (from matplotlib->corner) (2.7.5)\n",
      "Requirement already satisfied: setuptools in /home/luclepot/anaconda3/lib/python3.7/site-packages (from kiwisolver>=1.0.1->matplotlib->corner) (41.0.1)\n"
     ]
    }
   ],
   "source": [
    "!pip install energyflow corner"
   ]
  },
  {
   "cell_type": "markdown",
   "metadata": {},
   "source": [
    "We can check that these installed immediately by importing and inspecting them. We can also show the use of the `dir` python builtin command, which lists all attributes of that object/scope:"
   ]
  },
  {
   "cell_type": "code",
   "execution_count": 8,
   "metadata": {},
   "outputs": [
    {
     "name": "stdout",
     "output_type": "stream",
     "text": [
      "corner author:  Dan Foreman-Mackey (foreman.mackey@gmail.com)\n",
      "energyflow version:  0.13.2\n"
     ]
    },
    {
     "data": {
      "text/plain": [
       "['__CORNER_SETUP__',\n",
       " '__all__',\n",
       " '__author__',\n",
       " '__builtins__',\n",
       " '__cached__',\n",
       " '__contributors__',\n",
       " '__copyright__',\n",
       " '__doc__',\n",
       " '__file__',\n",
       " '__loader__',\n",
       " '__name__',\n",
       " '__package__',\n",
       " '__path__',\n",
       " '__spec__',\n",
       " '__version__',\n",
       " 'corner',\n",
       " 'hist2d',\n",
       " 'quantile']"
      ]
     },
     "execution_count": 8,
     "metadata": {},
     "output_type": "execute_result"
    }
   ],
   "source": [
    "import corner\n",
    "print('corner author: ', corner.__author__)\n",
    "\n",
    "import energyflow\n",
    "print('energyflow version: ', energyflow.__version__)\n",
    "\n",
    "dir(corner)"
   ]
  },
  {
   "cell_type": "markdown",
   "metadata": {},
   "source": [
    "#### section 1 examples, summary\n",
    "Here we learned several things that can be done via Jupyter/Colab, including how to\n",
    "- interact with the command line\n",
    "- inspect program environments and install programs\n",
    "- install python modules"
   ]
  }
 ],
 "metadata": {
  "colab": {
   "collapsed_sections": [],
   "name": "SPS machine learning tutorial, day 1",
   "provenance": []
  },
  "kernelspec": {
   "display_name": "Python 3",
   "language": "python",
   "name": "python3"
  },
  "language_info": {
   "codemirror_mode": {
    "name": "ipython",
    "version": 3
   },
   "file_extension": ".py",
   "mimetype": "text/x-python",
   "name": "python",
   "nbconvert_exporter": "python",
   "pygments_lexer": "ipython3",
   "version": "3.7.3"
  }
 },
 "nbformat": 4,
 "nbformat_minor": 1
}
