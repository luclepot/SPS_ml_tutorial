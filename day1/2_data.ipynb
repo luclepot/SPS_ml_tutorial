{
 "cells": [
  {
   "cell_type": "markdown",
   "metadata": {
    "colab_type": "text",
    "id": "lMdBJaMEKcFp"
   },
   "source": [
    "# SPS Python Tutorial, Day 1\n",
    "---\n",
    "*January 29/30, 2020*\n",
    "\n",
    "Luc Le Pottier, University of Michigan"
   ]
  },
  {
   "cell_type": "markdown",
   "metadata": {
    "colab_type": "text",
    "id": "NIkdFAQqLMAW"
   },
   "source": [
    "## **2: data storage and loading**\n",
    "This section will introduce tensor/vector libraries and compressed file format libraries, such as\n",
    "- the `pandas` module:\n",
    "    - `DataFrame` object and associated functions\n",
    "    - data loading and processing functionality\n",
    "- the `numpy` module:\n",
    "    - `ndarray` data storage object and associated functions\n",
    "    - basic numerical constants and mathematical functions\n",
    "- the `h5py` module:\n",
    "    - what an HDF5 file is/why it is useful\n",
    "    - loading and saving datasets to HDF5 format with `h5py`"
   ]
  },
  {
   "cell_type": "code",
   "execution_count": 0,
   "metadata": {
    "colab": {},
    "colab_type": "code",
    "id": "bb3202jCKVAu"
   },
   "outputs": [],
   "source": [
    "import pandas as pd\n",
    "import numpy as np\n",
    "import h5py\n",
    "\n",
    "# insert examples"
   ]
  }
 ],
 "metadata": {
  "colab": {
   "collapsed_sections": [],
   "name": "SPS machine learning tutorial, day 1",
   "provenance": []
  },
  "kernelspec": {
   "display_name": "Python 3",
   "language": "python",
   "name": "python3"
  },
  "language_info": {
   "codemirror_mode": {
    "name": "ipython",
    "version": 3
   },
   "file_extension": ".py",
   "mimetype": "text/x-python",
   "name": "python",
   "nbconvert_exporter": "python",
   "pygments_lexer": "ipython3",
   "version": "3.7.3"
  }
 },
 "nbformat": 4,
 "nbformat_minor": 1
}
