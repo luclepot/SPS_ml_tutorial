{
 "cells": [
  {
   "cell_type": "markdown",
   "metadata": {
    "colab_type": "text",
    "id": "lMdBJaMEKcFp"
   },
   "source": [
    "# SPS Python Tutorial, Day 1\n",
    "---\n",
    "*January 29/30, 2020*\n",
    "\n",
    "Luc Le Pottier, University of Michigan"
   ]
  },
  {
   "cell_type": "markdown",
   "metadata": {
    "colab_type": "text",
    "id": "NIkdFAQqLMAW"
   },
   "source": [
    "## **2: data storage and loading**\n",
    "This section will introduce tensor/vector libraries and compressed file format libraries, such as\n",
    "- the `numpy` module:\n",
    "    - `ndarray` data storage object and associated functions\n",
    "    - basic numerical constants and mathematical functions\n",
    "    - loading and saving datasets in `npz` format\n",
    "\n",
    "- the `pandas` module:\n",
    "    - `DataFrame` object and associated functions\n",
    "    - data loading and processing functionality\n",
    "\n",
    "- the `h5py` module:\n",
    "    - what an HDF5 file is/why it is useful\n",
    "    - loading and saving datasets to HDF5 format with `h5py`"
   ]
  },
  {
   "cell_type": "markdown",
   "metadata": {},
   "source": [
    "### **2.1: numpy**\n",
    "\n",
    "We'll start with (probably) the most fundamental python library, `numpy`. I won't pretend that anyone is unfamiliar with numpy. but I will go over a few things. "
   ]
  },
  {
   "cell_type": "code",
   "execution_count": 0,
   "metadata": {
    "colab": {},
    "colab_type": "code",
    "id": "bb3202jCKVAu"
   },
   "outputs": [],
   "source": [
    "# the classic pseudonym\n",
    "import numpy as np\n",
    "\n"
   ]
  },
  {
   "cell_type": "code",
   "execution_count": 1,
   "metadata": {},
   "outputs": [],
   "source": [
    "import numpy as np"
   ]
  },
  {
   "cell_type": "code",
   "execution_count": 22,
   "metadata": {},
   "outputs": [
    {
     "data": {
      "text/plain": [
       "((5, 10), (10, 5), (10,), (5,))"
      ]
     },
     "execution_count": 22,
     "metadata": {},
     "output_type": "execute_result"
    }
   ],
   "source": [
    "train = np.random.randn(10,5).sum(axis=1)\n",
    "test = np.random.randn(5,5).sum(axis=1)\n",
    "\n",
    "tx = np.tile(train, [test.shape[0], 1])\n",
    "ty = np.tile(test, [train.shape[0], 1])\n",
    "tx.shape, ty.shape, train.shape, test.shape\n",
    "# tx - ty.T"
   ]
  },
  {
   "cell_type": "code",
   "execution_count": null,
   "metadata": {},
   "outputs": [],
   "source": []
  }
 ],
 "metadata": {
  "colab": {
   "collapsed_sections": [],
   "name": "SPS machine learning tutorial, day 1",
   "provenance": []
  },
  "kernelspec": {
   "display_name": "Python 3",
   "language": "python",
   "name": "python3"
  },
  "language_info": {
   "codemirror_mode": {
    "name": "ipython",
    "version": 3
   },
   "file_extension": ".py",
   "mimetype": "text/x-python",
   "name": "python",
   "nbconvert_exporter": "python",
   "pygments_lexer": "ipython3",
   "version": "3.7.3"
  }
 },
 "nbformat": 4,
 "nbformat_minor": 1
}
