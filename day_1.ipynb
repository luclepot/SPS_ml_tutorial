{
  "nbformat": 4,
  "nbformat_minor": 0,
  "metadata": {
    "colab": {
      "name": "SPS machine learning tutorial, day 1",
      "provenance": [],
      "collapsed_sections": []
    },
    "kernelspec": {
      "name": "python3",
      "display_name": "Python 3"
    }
  },
  "cells": [
    {
      "cell_type": "markdown",
      "metadata": {
        "id": "lMdBJaMEKcFp",
        "colab_type": "text"
      },
      "source": [
        "# SPS Machine Learning Tutorial (Day 1)\n",
        "---\n",
        "Luc Le Pottier, University of Michigan <br>\n",
        "*January 29/30, 2020*\n"
      ]
    },
    {
      "cell_type": "markdown",
      "metadata": {
        "id": "NIkdFAQqLMAW",
        "colab_type": "text"
      },
      "source": [
        "## 1: data storage and loading\n",
        "This will be a ~30 minute introduction to some of the more advanced features of python datasets, including\n",
        "- the `pandas` module:\n",
        "    - `DataFrame` object and associated functions\n",
        "    - data loading and processing functionality\n",
        "- the `numpy` module:\n",
        "    - `ndarray` data storage object and associated functions\n",
        "    - basic numerical constants and mathematical functions\n",
        "- the `h5py` module:\n",
        "    - what an HDF5 file is/why it is useful\n",
        "    - loading and saving datasets to HDF5 format with `h5py`"
      ]
    },
    {
      "cell_type": "code",
      "metadata": {
        "id": "bb3202jCKVAu",
        "colab_type": "code",
        "colab": {}
      },
      "source": [
        "import pandas as pd\n",
        "import numpy as np\n",
        "import h5py"
      ],
      "execution_count": 0,
      "outputs": []
    },
    {
      "cell_type": "markdown",
      "metadata": {
        "id": "0N6lP2a8SlK4",
        "colab_type": "text"
      },
      "source": [
        "## 2: visualization\n",
        "- the `matplotlib` module:\n",
        "    - baseline interface for all plotting; super customizable\n",
        "    - can be annoying to get everything *just right*\n",
        "- `seaborn` wrapper module for `matplotlib`:\n",
        "    - very intuitive, works with `pandas` quite nicely\n",
        "    - automatically finds pretty formatting\n",
        "    - less customizable\n",
        "- `pandas` plotting functions within the `DataFrame` object\n",
        "    - good for quick data inspection"
      ]
    },
    {
      "cell_type": "code",
      "metadata": {
        "id": "b2VczHIkWimu",
        "colab_type": "code",
        "colab": {}
      },
      "source": [
        "import matplotlib.pyplot as plt\n",
        "import seaborn as sns"
      ],
      "execution_count": 0,
      "outputs": []
    },
    {
      "cell_type": "markdown",
      "metadata": {
        "id": "i9B6UDbCWsNp",
        "colab_type": "text"
      },
      "source": [
        "## 3: \n"
      ]
    }
  ]
}