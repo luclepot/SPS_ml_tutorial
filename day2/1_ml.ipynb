{
  "nbformat": 4,
  "nbformat_minor": 0,
  "metadata": {
    "colab": {
      "name": "SPS machine learning tutorial, day 1",
      "provenance": [],
      "collapsed_sections": []
    },
    "kernelspec": {
      "name": "python3",
      "display_name": "Python 3"
    }
  },
  "cells": [
    {
      "cell_type": "markdown",
      "metadata": {
        "id": "lMdBJaMEKcFp",
        "colab_type": "text"
      },
      "source": [
        "# SPS Machine Learning Tutorial, Part 1\n",
        "---\n",
        "January 29/30, 2020 // Luc Le Pottier, University of Michigan\n"
      ]
    },
    {
      "cell_type": "markdown",
      "metadata": {
        "id": "NIkdFAQqLMAW",
        "colab_type": "text"
      },
      "source": [
        "## 1: python introduction\n",
        "This will be a ~30 minute introduction to the more advanced "
      ]
    },
    {
      "cell_type": "markdown",
      "metadata": {
        "id": "VisCB_15NUdS",
        "colab_type": "text"
      },
      "source": [
        ""
      ]
    },
    {
      "cell_type": "code",
      "metadata": {
        "id": "bb3202jCKVAu",
        "colab_type": "code",
        "colab": {}
      },
      "source": [
        ""
      ],
      "execution_count": 0,
      "outputs": []
    }
  ]
}