{
 "cells": [
  {
   "cell_type": "markdown",
   "metadata": {
    "colab_type": "text",
    "id": "lMdBJaMEKcFp"
   },
   "source": [
    "# SPS Machine Learning Tutorial, Part 1\n",
    "---\n",
    "January 29/30, 2020 // Luc Le Pottier, University of Michigan\n"
   ]
  },
  {
   "cell_type": "markdown",
   "metadata": {
    "colab_type": "text",
    "id": "NIkdFAQqLMAW"
   },
   "source": [
    "##### first: a cool viz which didn't fit last time\n",
    "just because I didn't have time, here's another cool way of visualizing dimensional data.\n",
    "\n",
    "Here we will show a cool method of transforming sound files (.wav), which are in the amplitude-time domain, to the frequency-time domain. \n",
    "\n",
    "First we get some .wav files: "
   ]
  },
  {
   "cell_type": "code",
   "execution_count": 1,
   "metadata": {},
   "outputs": [
    {
     "name": "stdout",
     "output_type": "stream",
     "text": [
      "SYNTH-FancyPoly800Dazed.wav  SYNTH-PWMRezzzzzzz.wav\r\n"
     ]
    }
   ],
   "source": [
    "!wget -q https://github.com/luclepot/SPS_ml_tutorial/raw/master/data/synths/SYNTH-FancyPoly800Dazed.wav https://github.com/luclepot/SPS_ml_tutorial/raw/master/data/synths/SYNTH-PWMRezzzzzzz.wav\n",
    "!ls *.wav"
   ]
  },
  {
   "cell_type": "markdown",
   "metadata": {},
   "source": [
    "Then we can make what is called a spectrogram; basically, an image of the behavior of the .wav file in time, as a function of intensity."
   ]
  },
  {
   "cell_type": "code",
   "execution_count": null,
   "metadata": {
    "colab": {},
    "colab_type": "code",
    "id": "bb3202jCKVAu"
   },
   "outputs": [],
   "source": [
    "import numpy as np\n",
    "import scipy.signal\n",
    "import scipy.io.wavfile\n",
    "import matplotlib.pyplot as plt \n",
    "import matplotlib.colors as plt_colors\n",
    "import glob\n",
    "\n",
    "filenames = glob.glob('SYNTH-*.wav')\n",
    "for path in filenames:\n",
    "    \n",
    "    name = path.split('-')[-1].replace('.wav', '')\n",
    "    sample_rate, data = scipy.io.wavfile.read(path)\n",
    "    f,t,Sxx = scipy.signal.spectrogram(data, fs=sample_rate, return_onesided=True)\n",
    "\n",
    "    plt.figure(figsize=(4*len(t)/len(f),4))\n",
    "    plt.pcolormesh(t, f, Sxx, cmap='CMRmap', norm=plt_colors.LogNorm())\n",
    "    plt.colorbar().set_label('intensity')\n",
    "\n",
    "    plt.ylabel('frequency (hz)')\n",
    "    plt.xlabel('time (s)')\n",
    "    plt.gca().set_aspect(t.max()/f.max() * len(f)/len(t))\n",
    "    plt.title(name)\n",
    "    plt.show()\n"
   ]
  },
  {
   "cell_type": "markdown",
   "metadata": {},
   "source": [
    "## 1. Building models"
   ]
  },
  {
   "cell_type": "markdown",
   "metadata": {},
   "source": [
    "As I probably made exceedingly clear, building a machine learning model is in large part about getting good data. Therefore, lets grab some data first:"
   ]
  },
  {
   "cell_type": "code",
   "execution_count": null,
   "metadata": {},
   "outputs": [],
   "source": [
    "!wget https://github.com/luclepot/SPS_ml_tutorial/raw/master/data/jets.h5 -q"
   ]
  },
  {
   "cell_type": "markdown",
   "metadata": {},
   "source": [
    "Nice. We can load the data using h5, which we should have learned yesterday. Here's how to do it, but I encourage anyone to try it themselves first!"
   ]
  },
  {
   "cell_type": "code",
   "execution_count": null,
   "metadata": {},
   "outputs": [],
   "source": [
    "import h5py\n",
    "\n",
    "f = h5py.File('jets.h5', 'r')\n",
    "\n",
    "print(list(f.keys()))"
   ]
  },
  {
   "cell_type": "markdown",
   "metadata": {},
   "source": [
    "We can see there are a few datasets in this h5 file. We just want the `jet_features` column for now, which appears to be a group:"
   ]
  },
  {
   "cell_type": "code",
   "execution_count": 128,
   "metadata": {},
   "outputs": [
    {
     "name": "stdout",
     "output_type": "stream",
     "text": [
      "<HDF5 group \"/jet_features\" (2 members)>\n",
      "['data', 'labels']\n"
     ]
    }
   ],
   "source": [
    "print(f['jet_features'])\n",
    "print(list(f['jet_features'].keys()))"
   ]
  },
  {
   "cell_type": "markdown",
   "metadata": {},
   "source": [
    "We can load the entirety of these datasets into memory because they are small, with the `labels` key being the columns of the set:"
   ]
  },
  {
   "cell_type": "code",
   "execution_count": 161,
   "metadata": {},
   "outputs": [
    {
     "data": {
      "text/plain": [
       "((7406, 2, 9),\n",
       " array([b'Eta', b'Phi', b'Pt', b'M', b'ChargedFraction', b'PTD', b'Axis2',\n",
       "        b'Flavor', b'Energy'], dtype='|S15'))"
      ]
     },
     "execution_count": 161,
     "metadata": {},
     "output_type": "execute_result"
    }
   ],
   "source": [
    "import pandas as pd\n",
    "\n",
    "data_raw = f['jet_features']['data'][:] \n",
    "columns = f['jet_features']['labels'][:]\n",
    "data_raw.shape, columns"
   ]
  },
  {
   "cell_type": "markdown",
   "metadata": {},
   "source": [
    "##### What is this data? \n",
    "Good question. This is data on individual jets at the LHC, with 9 attributes each per jet. \n",
    "\n",
    "##### What is a jet?\n",
    "also a good question. Jets are analysis objects produced at LHC detectors.\n",
    "\n",
    "the heavy and unstable results of high-energy particle collisions, i.e. the higgs boson or a top quark, decay rapidly after they are produced. So rapidly, in fact, that they do not make it anywhere close to the actual detectors!\n",
    "\n",
    "Instead, these (and other) particles *shower*, or decay into various other hadrons (hadronization!). These hadrons then often decay as well, forming a cone of decay products. \n",
    "\n",
    "This cone of decay products - usually hadrons, electrons, and photons - is then intercepted by detectors, and it must be inferred what original particle generated these resultant particles. \n",
    "\n",
    "This is a *very* difficult problem, and an active field of research (my field of research!!)\n",
    "\n",
    "##### What are we doing with this data?\n",
    "These data points are from QCD (quark and gluon-produced) jets with very specific characteristics; namely, we have the leading and subleading (first and second highest transverse momentum, or $p_T$) jets for a number of events.\n",
    "\n",
    "A good way to learn machine learning is to build a model. In this case, we can try to build a model to detect gluon jets Using the $P,~T,~E$ characterization from the lecture slides, we can define this as so:\n",
    "* *$P$*: "
   ]
  },
  {
   "cell_type": "code",
   "execution_count": 201,
   "metadata": {},
   "outputs": [
    {
     "data": {
      "text/plain": [
       "(13749, 6)"
      ]
     },
     "execution_count": 201,
     "metadata": {},
     "output_type": "execute_result"
    }
   ],
   "source": []
  },
  {
   "cell_type": "code",
   "execution_count": null,
   "metadata": {
    "scrolled": false
   },
   "outputs": [],
   "source": [
    "import seaborn as sns\n",
    "import matplotlib.pyplot as plt\n",
    "\n",
    "# reshape the data so it is all jets, and decode the feature labels\n",
    "data = pd.DataFrame(data_raw.reshape((7406*2, 9)), columns=map(lambda x: x.decode('utf-8'), columns))\n",
    "y = data['Flavor'].isin([9, 21]).astype(int)\n",
    "\n",
    "data.drop(['Flavor', 'Eta', 'Phi'], axis=1, inplace=True)\n",
    "\n",
    "plt.figure(figsize=(15,15))\n",
    "\n",
    "data[y == 1].hist(label='gluons', color='tab:blue', histtype='step')\n",
    "data[y == 0].hist(label='not gluons', color='tab:orange', histtype='step')\n",
    "plt.legend()\n",
    "plt.show()"
   ]
  },
  {
   "cell_type": "markdown",
   "metadata": {},
   "source": [
    "##"
   ]
  },
  {
   "cell_type": "code",
   "execution_count": null,
   "metadata": {},
   "outputs": [],
   "source": []
  }
 ],
 "metadata": {
  "colab": {
   "collapsed_sections": [],
   "name": "SPS machine learning tutorial, day 1",
   "provenance": []
  },
  "kernelspec": {
   "display_name": "Python 3",
   "language": "python",
   "name": "python3"
  },
  "language_info": {
   "codemirror_mode": {
    "name": "ipython",
    "version": 3
   },
   "file_extension": ".py",
   "mimetype": "text/x-python",
   "name": "python",
   "nbconvert_exporter": "python",
   "pygments_lexer": "ipython3",
   "version": "3.7.3"
  }
 },
 "nbformat": 4,
 "nbformat_minor": 1
}
